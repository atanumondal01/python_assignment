{
 "cells": [
  {
   "cell_type": "code",
   "execution_count": 1,
   "id": "2fc4bdeb",
   "metadata": {},
   "outputs": [],
   "source": [
    "#Q1"
   ]
  },
  {
   "cell_type": "code",
   "execution_count": 2,
   "id": "65c8929f",
   "metadata": {},
   "outputs": [],
   "source": [
    "var=\"string\"\n"
   ]
  },
  {
   "cell_type": "code",
   "execution_count": 3,
   "id": "1eca8bdc",
   "metadata": {},
   "outputs": [],
   "source": [
    "var1=[5,6,2,9]"
   ]
  },
  {
   "cell_type": "code",
   "execution_count": 4,
   "id": "7f2e01ad",
   "metadata": {},
   "outputs": [],
   "source": [
    "var3=5.7\n"
   ]
  },
  {
   "cell_type": "code",
   "execution_count": 5,
   "id": "d1553c21",
   "metadata": {},
   "outputs": [],
   "source": [
    "var4=(5,4,6,3)"
   ]
  },
  {
   "cell_type": "code",
   "execution_count": 6,
   "id": "d329ead3",
   "metadata": {},
   "outputs": [],
   "source": [
    "#Q2. i. string   ii. string    iii. list.   iv. float"
   ]
  },
  {
   "cell_type": "code",
   "execution_count": null,
   "id": "8c15991a",
   "metadata": {},
   "outputs": [],
   "source": []
  },
  {
   "cell_type": "code",
   "execution_count": 7,
   "id": "49721425",
   "metadata": {},
   "outputs": [],
   "source": [
    "#Q3."
   ]
  },
  {
   "cell_type": "code",
   "execution_count": null,
   "id": "237c53b7",
   "metadata": {},
   "outputs": [],
   "source": [
    "#// floor division\n"
   ]
  },
  {
   "cell_type": "code",
   "execution_count": 29,
   "id": "df0b1859",
   "metadata": {},
   "outputs": [],
   "source": [
    "a=12 "
   ]
  },
  {
   "cell_type": "code",
   "execution_count": 30,
   "id": "71bf20cd",
   "metadata": {},
   "outputs": [],
   "source": [
    "b=5"
   ]
  },
  {
   "cell_type": "code",
   "execution_count": 31,
   "id": "1f5fbc69",
   "metadata": {},
   "outputs": [
    {
     "name": "stdout",
     "output_type": "stream",
     "text": [
      "2\n"
     ]
    }
   ],
   "source": [
    "print(a//b)"
   ]
  },
  {
   "cell_type": "code",
   "execution_count": null,
   "id": "9cc8cd65",
   "metadata": {},
   "outputs": [],
   "source": []
  },
  {
   "cell_type": "code",
   "execution_count": 32,
   "id": "c3793c46",
   "metadata": {},
   "outputs": [],
   "source": [
    "#% remainder"
   ]
  },
  {
   "cell_type": "code",
   "execution_count": 33,
   "id": "452f6c61",
   "metadata": {},
   "outputs": [
    {
     "name": "stdout",
     "output_type": "stream",
     "text": [
      "2\n"
     ]
    }
   ],
   "source": [
    "print(a%b)"
   ]
  },
  {
   "cell_type": "code",
   "execution_count": 34,
   "id": "454abd65",
   "metadata": {},
   "outputs": [],
   "source": [
    "# / for divison\n"
   ]
  },
  {
   "cell_type": "code",
   "execution_count": 35,
   "id": "a99472cf",
   "metadata": {},
   "outputs": [
    {
     "name": "stdout",
     "output_type": "stream",
     "text": [
      "2.4\n"
     ]
    }
   ],
   "source": [
    "print(a/b)"
   ]
  },
  {
   "cell_type": "code",
   "execution_count": 36,
   "id": "a70c1388",
   "metadata": {},
   "outputs": [],
   "source": [
    "##** for power"
   ]
  },
  {
   "cell_type": "code",
   "execution_count": 37,
   "id": "c9e06888",
   "metadata": {},
   "outputs": [
    {
     "name": "stdout",
     "output_type": "stream",
     "text": [
      "248832\n"
     ]
    }
   ],
   "source": [
    "print(a**b)"
   ]
  },
  {
   "cell_type": "code",
   "execution_count": null,
   "id": "53ea6dee",
   "metadata": {},
   "outputs": [],
   "source": []
  },
  {
   "cell_type": "code",
   "execution_count": null,
   "id": "a2cf4783",
   "metadata": {},
   "outputs": [],
   "source": []
  },
  {
   "cell_type": "code",
   "execution_count": 8,
   "id": "a8686e09",
   "metadata": {},
   "outputs": [],
   "source": [
    "#Q4"
   ]
  },
  {
   "cell_type": "code",
   "execution_count": 9,
   "id": "8e58ff3d",
   "metadata": {},
   "outputs": [],
   "source": [
    "L1=[5,6,3,\"how\",{5,6},(5,5,6),\"string\",9,1 ,0]"
   ]
  },
  {
   "cell_type": "code",
   "execution_count": 10,
   "id": "f8a5ec62",
   "metadata": {},
   "outputs": [
    {
     "name": "stdout",
     "output_type": "stream",
     "text": [
      "5\n",
      "6\n",
      "3\n",
      "how\n",
      "{5, 6}\n",
      "(5, 5, 6)\n",
      "string\n",
      "9\n",
      "1\n",
      "0\n"
     ]
    }
   ],
   "source": [
    "for i in L1:\n",
    "    print(i)"
   ]
  },
  {
   "cell_type": "code",
   "execution_count": null,
   "id": "5b1fc869",
   "metadata": {},
   "outputs": [],
   "source": []
  },
  {
   "cell_type": "code",
   "execution_count": 11,
   "id": "0aeaf88b",
   "metadata": {},
   "outputs": [],
   "source": [
    "#Q5"
   ]
  },
  {
   "cell_type": "code",
   "execution_count": null,
   "id": "c76cfffe",
   "metadata": {},
   "outputs": [],
   "source": [
    "## please let me know the logical error in this code"
   ]
  },
  {
   "cell_type": "code",
   "execution_count": 12,
   "id": "47659966",
   "metadata": {},
   "outputs": [],
   "source": [
    "a=100"
   ]
  },
  {
   "cell_type": "code",
   "execution_count": 13,
   "id": "1ef6338b",
   "metadata": {},
   "outputs": [],
   "source": [
    "b=10"
   ]
  },
  {
   "cell_type": "code",
   "execution_count": 14,
   "id": "b9b8fc1e",
   "metadata": {},
   "outputs": [],
   "source": [
    "count=0"
   ]
  },
  {
   "cell_type": "code",
   "execution_count": 15,
   "id": "d188fb10",
   "metadata": {},
   "outputs": [],
   "source": [
    "while(a>0):\n",
    "    if a%b==0:\n",
    "        count+=1\n",
    "        a=a/b\n",
    "        continue\n",
    "    break    "
   ]
  },
  {
   "cell_type": "code",
   "execution_count": 16,
   "id": "7e0869a2",
   "metadata": {},
   "outputs": [
    {
     "name": "stdout",
     "output_type": "stream",
     "text": [
      "it is not divisible\n"
     ]
    }
   ],
   "source": [
    "if count:\n",
    "    print(\"it is not divisible\")\n",
    "else:\n",
    " print(\"it is divisible by \",count)    "
   ]
  },
  {
   "cell_type": "code",
   "execution_count": null,
   "id": "a6211d11",
   "metadata": {},
   "outputs": [],
   "source": []
  },
  {
   "cell_type": "code",
   "execution_count": null,
   "id": "51695b4f",
   "metadata": {},
   "outputs": [],
   "source": [
    "#Q6"
   ]
  },
  {
   "cell_type": "code",
   "execution_count": 17,
   "id": "bd2315b4",
   "metadata": {},
   "outputs": [],
   "source": [
    "list2=[4,3,33,7,5,2,6,9,12,15,18,21,65,12,27,30,36,52,99,44,6,97,24,25,12]"
   ]
  },
  {
   "cell_type": "code",
   "execution_count": 21,
   "id": "57693a9e",
   "metadata": {},
   "outputs": [
    {
     "name": "stdout",
     "output_type": "stream",
     "text": [
      "4 it is not divisible by 3\n",
      "3 is divisible by 3\n",
      "33 is divisible by 3\n",
      "7 it is not divisible by 3\n",
      "5 it is not divisible by 3\n",
      "2 it is not divisible by 3\n",
      "6 is divisible by 3\n",
      "9 is divisible by 3\n",
      "12 is divisible by 3\n",
      "15 is divisible by 3\n",
      "18 is divisible by 3\n",
      "21 is divisible by 3\n",
      "65 it is not divisible by 3\n",
      "12 is divisible by 3\n",
      "27 is divisible by 3\n",
      "30 is divisible by 3\n",
      "36 is divisible by 3\n",
      "52 it is not divisible by 3\n",
      "99 is divisible by 3\n",
      "44 it is not divisible by 3\n",
      "6 is divisible by 3\n",
      "97 it is not divisible by 3\n",
      "24 is divisible by 3\n",
      "25 it is not divisible by 3\n",
      "12 is divisible by 3\n"
     ]
    }
   ],
   "source": [
    "for i in list2:\n",
    "    if i%3==0:\n",
    "        print(i,\"is divisible by 3\")\n",
    "    else:\n",
    "        print(i,\"it is not divisible by 3\")"
   ]
  },
  {
   "cell_type": "code",
   "execution_count": null,
   "id": "f1c10fce",
   "metadata": {},
   "outputs": [],
   "source": []
  },
  {
   "cell_type": "code",
   "execution_count": null,
   "id": "0fde94d5",
   "metadata": {},
   "outputs": [],
   "source": [
    "#Q7"
   ]
  },
  {
   "cell_type": "code",
   "execution_count": null,
   "id": "ee544f30",
   "metadata": {},
   "outputs": [],
   "source": [
    "# Mutable data type are those whose value can be changed after initialization\n",
    "#Immutable date type are those whose value can't be changed afrer initializaton"
   ]
  },
  {
   "cell_type": "code",
   "execution_count": 23,
   "id": "1c59b199",
   "metadata": {},
   "outputs": [],
   "source": [
    "L1=[3,56,22]  #list it is mutable"
   ]
  },
  {
   "cell_type": "code",
   "execution_count": 26,
   "id": "ea6aa889",
   "metadata": {},
   "outputs": [],
   "source": [
    "L1[0]=9 #valid"
   ]
  },
  {
   "cell_type": "code",
   "execution_count": 27,
   "id": "9bc0ff0d",
   "metadata": {},
   "outputs": [],
   "source": [
    "string1=\"this is string and immutable\"\n"
   ]
  },
  {
   "cell_type": "code",
   "execution_count": null,
   "id": "09815265",
   "metadata": {},
   "outputs": [],
   "source": [
    "string[3]=\"this\" #error"
   ]
  },
  {
   "cell_type": "code",
   "execution_count": null,
   "id": "c8e1c44a",
   "metadata": {},
   "outputs": [],
   "source": []
  }
 ],
 "metadata": {
  "kernelspec": {
   "display_name": "Python 3 (ipykernel)",
   "language": "python",
   "name": "python3"
  },
  "language_info": {
   "codemirror_mode": {
    "name": "ipython",
    "version": 3
   },
   "file_extension": ".py",
   "mimetype": "text/x-python",
   "name": "python",
   "nbconvert_exporter": "python",
   "pygments_lexer": "ipython3",
   "version": "3.9.13"
  }
 },
 "nbformat": 4,
 "nbformat_minor": 5
}
