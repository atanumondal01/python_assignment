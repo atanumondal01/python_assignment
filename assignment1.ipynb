{
 "cells": [
  {
   "cell_type": "code",
   "execution_count": 1,
   "id": "b8934956",
   "metadata": {},
   "outputs": [],
   "source": [
    "#Q1"
   ]
  },
  {
   "cell_type": "code",
   "execution_count": 2,
   "id": "56de86ce",
   "metadata": {},
   "outputs": [],
   "source": [
    "var=\"string\"\n"
   ]
  },
  {
   "cell_type": "code",
   "execution_count": 3,
   "id": "c671da48",
   "metadata": {},
   "outputs": [],
   "source": [
    "var1=[5,6,2,9]"
   ]
  },
  {
   "cell_type": "code",
   "execution_count": 4,
   "id": "1e894378",
   "metadata": {},
   "outputs": [],
   "source": [
    "var3=5.7\n"
   ]
  },
  {
   "cell_type": "code",
   "execution_count": 5,
   "id": "27b4fb5d",
   "metadata": {},
   "outputs": [],
   "source": [
    "var4=(5,4,6,3)"
   ]
  },
  {
   "cell_type": "code",
   "execution_count": 6,
   "id": "2cb5ca49",
   "metadata": {},
   "outputs": [],
   "source": [
    "#Q2. i. string   ii. string    iii. list.   iv. float"
   ]
  },
  {
   "cell_type": "code",
   "execution_count": null,
   "id": "5f64105f",
   "metadata": {},
   "outputs": [],
   "source": []
  },
  {
   "cell_type": "code",
   "execution_count": 7,
   "id": "50a2f8aa",
   "metadata": {},
   "outputs": [],
   "source": [
    "#Q3."
   ]
  },
  {
   "cell_type": "code",
   "execution_count": null,
   "id": "962de841",
   "metadata": {},
   "outputs": [],
   "source": []
  },
  {
   "cell_type": "code",
   "execution_count": 8,
   "id": "30137f34",
   "metadata": {},
   "outputs": [],
   "source": [
    "#Q4"
   ]
  },
  {
   "cell_type": "code",
   "execution_count": 9,
   "id": "3f84f682",
   "metadata": {},
   "outputs": [],
   "source": [
    "L1=[5,6,3,\"how\",{5,6},(5,5,6),\"string\",9,1 ,0]"
   ]
  },
  {
   "cell_type": "code",
   "execution_count": 10,
   "id": "c0198990",
   "metadata": {},
   "outputs": [
    {
     "name": "stdout",
     "output_type": "stream",
     "text": [
      "5\n",
      "6\n",
      "3\n",
      "how\n",
      "{5, 6}\n",
      "(5, 5, 6)\n",
      "string\n",
      "9\n",
      "1\n",
      "0\n"
     ]
    }
   ],
   "source": [
    "for i in L1:\n",
    "    print(i)"
   ]
  },
  {
   "cell_type": "code",
   "execution_count": null,
   "id": "6b55e3ac",
   "metadata": {},
   "outputs": [],
   "source": []
  },
  {
   "cell_type": "code",
   "execution_count": 11,
   "id": "71188b37",
   "metadata": {},
   "outputs": [],
   "source": [
    "#Q5"
   ]
  },
  {
   "cell_type": "code",
   "execution_count": null,
   "id": "41a3ba0d",
   "metadata": {},
   "outputs": [],
   "source": [
    "## please let me know the logical error in this code"
   ]
  },
  {
   "cell_type": "code",
   "execution_count": 12,
   "id": "671e52f2",
   "metadata": {},
   "outputs": [],
   "source": [
    "a=100"
   ]
  },
  {
   "cell_type": "code",
   "execution_count": 13,
   "id": "aafd37d8",
   "metadata": {},
   "outputs": [],
   "source": [
    "b=10"
   ]
  },
  {
   "cell_type": "code",
   "execution_count": 14,
   "id": "59ce9593",
   "metadata": {},
   "outputs": [],
   "source": [
    "count=0"
   ]
  },
  {
   "cell_type": "code",
   "execution_count": 15,
   "id": "604e0854",
   "metadata": {},
   "outputs": [],
   "source": [
    "while(a>0):\n",
    "    if a%b==0:\n",
    "        count+=1\n",
    "        a=a/b\n",
    "        continue\n",
    "    break    "
   ]
  },
  {
   "cell_type": "code",
   "execution_count": 16,
   "id": "bb96f49d",
   "metadata": {},
   "outputs": [
    {
     "name": "stdout",
     "output_type": "stream",
     "text": [
      "it is not divisible\n"
     ]
    }
   ],
   "source": [
    "if count:\n",
    "    print(\"it is not divisible\")\n",
    "else:\n",
    " print(\"it is divisible by \",count)    "
   ]
  },
  {
   "cell_type": "code",
   "execution_count": null,
   "id": "bf7fd7ab",
   "metadata": {},
   "outputs": [],
   "source": []
  },
  {
   "cell_type": "code",
   "execution_count": null,
   "id": "a1eb9811",
   "metadata": {},
   "outputs": [],
   "source": [
    "#Q6"
   ]
  },
  {
   "cell_type": "code",
   "execution_count": 17,
   "id": "6fd24f96",
   "metadata": {},
   "outputs": [],
   "source": [
    "list2=[4,3,33,7,5,2,6,9,12,15,18,21,65,12,27,30,36,52,99,44,6,97,24,25,12]"
   ]
  },
  {
   "cell_type": "code",
   "execution_count": 21,
   "id": "830ef2ad",
   "metadata": {},
   "outputs": [
    {
     "name": "stdout",
     "output_type": "stream",
     "text": [
      "4 it is not divisible by 3\n",
      "3 is divisible by 3\n",
      "33 is divisible by 3\n",
      "7 it is not divisible by 3\n",
      "5 it is not divisible by 3\n",
      "2 it is not divisible by 3\n",
      "6 is divisible by 3\n",
      "9 is divisible by 3\n",
      "12 is divisible by 3\n",
      "15 is divisible by 3\n",
      "18 is divisible by 3\n",
      "21 is divisible by 3\n",
      "65 it is not divisible by 3\n",
      "12 is divisible by 3\n",
      "27 is divisible by 3\n",
      "30 is divisible by 3\n",
      "36 is divisible by 3\n",
      "52 it is not divisible by 3\n",
      "99 is divisible by 3\n",
      "44 it is not divisible by 3\n",
      "6 is divisible by 3\n",
      "97 it is not divisible by 3\n",
      "24 is divisible by 3\n",
      "25 it is not divisible by 3\n",
      "12 is divisible by 3\n"
     ]
    }
   ],
   "source": [
    "for i in list2:\n",
    "    if i%3==0:\n",
    "        print(i,\"is divisible by 3\")\n",
    "    else:\n",
    "        print(i,\"it is not divisible by 3\")"
   ]
  },
  {
   "cell_type": "code",
   "execution_count": null,
   "id": "d907af4a",
   "metadata": {},
   "outputs": [],
   "source": []
  },
  {
   "cell_type": "code",
   "execution_count": null,
   "id": "da395b10",
   "metadata": {},
   "outputs": [],
   "source": []
  },
  {
   "cell_type": "code",
   "execution_count": null,
   "id": "f00c7dd4",
   "metadata": {},
   "outputs": [],
   "source": [
    "# Mutable data type are those whose value can be changed after initialization\n",
    "#Immutable date type are those whose value can't be changed afrer initializaton"
   ]
  },
  {
   "cell_type": "code",
   "execution_count": 23,
   "id": "9eac6169",
   "metadata": {},
   "outputs": [],
   "source": [
    "L1=[3,56,22]  #list it is mutable"
   ]
  },
  {
   "cell_type": "code",
   "execution_count": 26,
   "id": "2fa9901b",
   "metadata": {},
   "outputs": [],
   "source": [
    "L1[0]=9 #valid"
   ]
  },
  {
   "cell_type": "code",
   "execution_count": 27,
   "id": "3f29caa9",
   "metadata": {},
   "outputs": [],
   "source": [
    "string1=\"this is string and immutable\"\n"
   ]
  },
  {
   "cell_type": "code",
   "execution_count": null,
   "id": "3e14f00b",
   "metadata": {},
   "outputs": [],
   "source": [
    "string[3]=\"this\" #error"
   ]
  },
  {
   "cell_type": "code",
   "execution_count": null,
   "id": "15cf0ca9",
   "metadata": {},
   "outputs": [],
   "source": []
  }
 ],
 "metadata": {
  "kernelspec": {
   "display_name": "Python 3 (ipykernel)",
   "language": "python",
   "name": "python3"
  },
  "language_info": {
   "codemirror_mode": {
    "name": "ipython",
    "version": 3
   },
   "file_extension": ".py",
   "mimetype": "text/x-python",
   "name": "python",
   "nbconvert_exporter": "python",
   "pygments_lexer": "ipython3",
   "version": "3.9.13"
  }
 },
 "nbformat": 4,
 "nbformat_minor": 5
}
