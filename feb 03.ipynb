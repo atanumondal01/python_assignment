{
 "cells": [
  {
   "cell_type": "code",
   "execution_count": 1,
   "id": "47575a06",
   "metadata": {},
   "outputs": [],
   "source": [
    "#Q1 def keyword is used to define function"
   ]
  },
  {
   "cell_type": "code",
   "execution_count": 2,
   "id": "56cd1ec0",
   "metadata": {},
   "outputs": [],
   "source": [
    "def fun_odd():\n",
    "  l1=[]\n",
    "  for i in range(25):\n",
    "    if i%3==0:\n",
    "        l1.append(i)\n",
    "  return l1"
   ]
  },
  {
   "cell_type": "code",
   "execution_count": 3,
   "id": "5e8a8a64",
   "metadata": {},
   "outputs": [
    {
     "name": "stdout",
     "output_type": "stream",
     "text": [
      "[0, 3, 6, 9, 12, 15, 18, 21, 24]\n"
     ]
    }
   ],
   "source": [
    "print(fun_odd())\n"
   ]
  },
  {
   "cell_type": "code",
   "execution_count": null,
   "id": "c00ce59f",
   "metadata": {},
   "outputs": [],
   "source": []
  },
  {
   "cell_type": "code",
   "execution_count": 4,
   "id": "a7025137",
   "metadata": {},
   "outputs": [],
   "source": [
    "#Q2.  We use *args and **kwargs as an argument when we are unsure about the number of arguments \n",
    "#to pass in the functions."
   ]
  },
  {
   "cell_type": "code",
   "execution_count": null,
   "id": "f07e0951",
   "metadata": {},
   "outputs": [],
   "source": []
  },
  {
   "cell_type": "code",
   "execution_count": 5,
   "id": "06330299",
   "metadata": {},
   "outputs": [
    {
     "name": "stdout",
     "output_type": "stream",
     "text": [
      "thankyou\n",
      "Welcome\n",
      "1\n",
      "Atanu\n"
     ]
    }
   ],
   "source": [
    "def myFun(*argv):\n",
    "\tfor i in argv:\n",
    "\t\tprint(i)\n",
    "\n",
    "\n",
    "myFun('thankyou', 'Welcome', 1, 'Atanu')\n"
   ]
  },
  {
   "cell_type": "code",
   "execution_count": null,
   "id": "8c67f6c0",
   "metadata": {},
   "outputs": [],
   "source": []
  },
  {
   "cell_type": "code",
   "execution_count": 6,
   "id": "0b739267",
   "metadata": {},
   "outputs": [],
   "source": [
    "def Newfun(**kwargs):\n",
    "    for key,val in kwargs.items():\n",
    "           print(\"the key value pair are \",key,val)        "
   ]
  },
  {
   "cell_type": "code",
   "execution_count": 7,
   "id": "1bdf3509",
   "metadata": {},
   "outputs": [
    {
     "name": "stdout",
     "output_type": "stream",
     "text": [
      "the key value pair are  a cake\n",
      "the key value pair are  b biscuit\n",
      "the key value pair are  c candy\n"
     ]
    }
   ],
   "source": [
    "Newfun(a=\"cake\",b=\"biscuit\",c=\"candy\")"
   ]
  },
  {
   "cell_type": "code",
   "execution_count": null,
   "id": "d4b7f298",
   "metadata": {},
   "outputs": [],
   "source": []
  },
  {
   "cell_type": "code",
   "execution_count": 8,
   "id": "f0a69dd5",
   "metadata": {},
   "outputs": [],
   "source": [
    "#Q3\n"
   ]
  },
  {
   "cell_type": "code",
   "execution_count": 9,
   "id": "a46e02ba",
   "metadata": {},
   "outputs": [],
   "source": [
    "#In Python, an iterator is an object that allows us to iterate over collections of data, such as lists, tuples, dictionaries, and sets."
   ]
  },
  {
   "cell_type": "code",
   "execution_count": 10,
   "id": "ec0c5824",
   "metadata": {},
   "outputs": [],
   "source": [
    "      #Iter() method is used to initialize the iterator object so that the instance of this object can be used for iterating."
   ]
  },
  {
   "cell_type": "code",
   "execution_count": 11,
   "id": "249e5677",
   "metadata": {},
   "outputs": [],
   "source": [
    "L=[4,5,3,6,7]"
   ]
  },
  {
   "cell_type": "code",
   "execution_count": 12,
   "id": "d1d56ae9",
   "metadata": {},
   "outputs": [],
   "source": [
    "lst=iter(L)"
   ]
  },
  {
   "cell_type": "code",
   "execution_count": 13,
   "id": "aa14abea",
   "metadata": {},
   "outputs": [
    {
     "data": {
      "text/plain": [
       "4"
      ]
     },
     "execution_count": 13,
     "metadata": {},
     "output_type": "execute_result"
    }
   ],
   "source": [
    "next(lst)"
   ]
  },
  {
   "cell_type": "code",
   "execution_count": 14,
   "id": "2c9d404c",
   "metadata": {},
   "outputs": [
    {
     "data": {
      "text/plain": [
       "5"
      ]
     },
     "execution_count": 14,
     "metadata": {},
     "output_type": "execute_result"
    }
   ],
   "source": [
    "next(lst)"
   ]
  },
  {
   "cell_type": "code",
   "execution_count": 15,
   "id": "8dc8e4f6",
   "metadata": {},
   "outputs": [
    {
     "name": "stdout",
     "output_type": "stream",
     "text": [
      "3\n",
      "6\n",
      "7\n"
     ]
    }
   ],
   "source": [
    "#or\n",
    "for i in lst:\n",
    "    print(i)"
   ]
  },
  {
   "cell_type": "code",
   "execution_count": null,
   "id": "08afbe98",
   "metadata": {},
   "outputs": [],
   "source": [
    "#Q4"
   ]
  },
  {
   "cell_type": "code",
   "execution_count": 16,
   "id": "42cbcd06",
   "metadata": {},
   "outputs": [],
   "source": [
    "# Generator function  allow us to define an iterative algorithm by writing a single function whose execution is not continuous and gives\n",
    "# output with every iterattion"
   ]
  },
  {
   "cell_type": "code",
   "execution_count": 17,
   "id": "acaf69dd",
   "metadata": {},
   "outputs": [],
   "source": [
    "      #the yield keyword w converts an expression that is specified along with it to a generator object and return it to the caller."
   ]
  },
  {
   "cell_type": "code",
   "execution_count": 18,
   "id": "a53c1efd",
   "metadata": {},
   "outputs": [
    {
     "data": {
      "text/plain": [
       "<generator object simplefun at 0x1120b73c0>"
      ]
     },
     "execution_count": 18,
     "metadata": {},
     "output_type": "execute_result"
    }
   ],
   "source": [
    "\n",
    "\n",
    "def simplefun(n):\n",
    "    for i in range(n):\n",
    "          yield i\n",
    "         \n",
    "\n",
    "\n",
    "simplefun(5)\n",
    "\n"
   ]
  },
  {
   "cell_type": "code",
   "execution_count": 19,
   "id": "641ceddd",
   "metadata": {},
   "outputs": [
    {
     "name": "stdout",
     "output_type": "stream",
     "text": [
      "0\n",
      "1\n",
      "2\n",
      "3\n",
      "4\n"
     ]
    }
   ],
   "source": [
    "for i in simplefun(5):\n",
    "    print(i)"
   ]
  },
  {
   "cell_type": "code",
   "execution_count": null,
   "id": "dd5536bb",
   "metadata": {},
   "outputs": [],
   "source": []
  },
  {
   "cell_type": "code",
   "execution_count": 20,
   "id": "e4819199",
   "metadata": {},
   "outputs": [],
   "source": [
    "#Q5"
   ]
  },
  {
   "cell_type": "code",
   "execution_count": 21,
   "id": "004ea2b6",
   "metadata": {},
   "outputs": [],
   "source": [
    "def generatewithnext(n):\n",
    "    for i in range(n):\n",
    "        yield i"
   ]
  },
  {
   "cell_type": "code",
   "execution_count": 22,
   "id": "ba02745a",
   "metadata": {},
   "outputs": [],
   "source": [
    "gen=generatewithnext(10)"
   ]
  },
  {
   "cell_type": "code",
   "execution_count": 23,
   "id": "5bcd0336",
   "metadata": {},
   "outputs": [
    {
     "name": "stdout",
     "output_type": "stream",
     "text": [
      "0\n"
     ]
    }
   ],
   "source": [
    "print(next(gen))"
   ]
  },
  {
   "cell_type": "code",
   "execution_count": 24,
   "id": "7ced9ea5",
   "metadata": {},
   "outputs": [
    {
     "name": "stdout",
     "output_type": "stream",
     "text": [
      "1\n"
     ]
    }
   ],
   "source": [
    "print(next(gen))"
   ]
  },
  {
   "cell_type": "code",
   "execution_count": null,
   "id": "c70cff61",
   "metadata": {},
   "outputs": [],
   "source": []
  },
  {
   "cell_type": "code",
   "execution_count": null,
   "id": "d2bbf369",
   "metadata": {},
   "outputs": [],
   "source": []
  },
  {
   "cell_type": "code",
   "execution_count": null,
   "id": "7c578da8",
   "metadata": {},
   "outputs": [],
   "source": []
  },
  {
   "cell_type": "code",
   "execution_count": null,
   "id": "0273aefc",
   "metadata": {},
   "outputs": [],
   "source": []
  },
  {
   "cell_type": "code",
   "execution_count": null,
   "id": "6cc8bf88",
   "metadata": {},
   "outputs": [],
   "source": []
  },
  {
   "cell_type": "code",
   "execution_count": null,
   "id": "18153d90",
   "metadata": {},
   "outputs": [],
   "source": []
  },
  {
   "cell_type": "code",
   "execution_count": null,
   "id": "e9cc028f",
   "metadata": {},
   "outputs": [],
   "source": []
  },
  {
   "cell_type": "code",
   "execution_count": null,
   "id": "5aa672d1",
   "metadata": {},
   "outputs": [],
   "source": []
  }
 ],
 "metadata": {
  "kernelspec": {
   "display_name": "Python 3 (ipykernel)",
   "language": "python",
   "name": "python3"
  },
  "language_info": {
   "codemirror_mode": {
    "name": "ipython",
    "version": 3
   },
   "file_extension": ".py",
   "mimetype": "text/x-python",
   "name": "python",
   "nbconvert_exporter": "python",
   "pygments_lexer": "ipython3",
   "version": "3.9.13"
  }
 },
 "nbformat": 4,
 "nbformat_minor": 5
}
